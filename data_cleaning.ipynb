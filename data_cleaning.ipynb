{
 "cells": [
  {
   "cell_type": "code",
   "execution_count": 1,
   "id": "bc55cfd8",
   "metadata": {},
   "outputs": [],
   "source": [
    "# Import necessary libraries\n",
    "import pandas as pd\n",
    "import numpy as np\n",
    "from datetime import datetime\n",
    "import time"
   ]
  },
  {
   "cell_type": "code",
   "execution_count": 2,
   "id": "8384770e",
   "metadata": {},
   "outputs": [
    {
     "data": {
      "text/html": [
       "<div>\n",
       "<style scoped>\n",
       "    .dataframe tbody tr th:only-of-type {\n",
       "        vertical-align: middle;\n",
       "    }\n",
       "\n",
       "    .dataframe tbody tr th {\n",
       "        vertical-align: top;\n",
       "    }\n",
       "\n",
       "    .dataframe thead th {\n",
       "        text-align: right;\n",
       "    }\n",
       "</style>\n",
       "<table border=\"1\" class=\"dataframe\">\n",
       "  <thead>\n",
       "    <tr style=\"text-align: right;\">\n",
       "      <th></th>\n",
       "      <th>summary</th>\n",
       "      <th>city</th>\n",
       "      <th>state</th>\n",
       "      <th>date_time</th>\n",
       "      <th>shape</th>\n",
       "      <th>duration</th>\n",
       "      <th>stats</th>\n",
       "      <th>report_link</th>\n",
       "      <th>text</th>\n",
       "      <th>posted</th>\n",
       "      <th>city_latitude</th>\n",
       "      <th>city_longitude</th>\n",
       "    </tr>\n",
       "  </thead>\n",
       "  <tbody>\n",
       "    <tr>\n",
       "      <th>0</th>\n",
       "      <td>My wife was driving southeast on a fairly popu...</td>\n",
       "      <td>Chester</td>\n",
       "      <td>VA</td>\n",
       "      <td>2019-12-12T18:43:00</td>\n",
       "      <td>light</td>\n",
       "      <td>5 seconds</td>\n",
       "      <td>Occurred : 12/12/2019 18:43  (Entered as : 12/...</td>\n",
       "      <td>http://www.nuforc.org/webreports/151/S151739.html</td>\n",
       "      <td>My wife was driving southeast on a fairly popu...</td>\n",
       "      <td>2019-12-22T00:00:00</td>\n",
       "      <td>37.343152</td>\n",
       "      <td>-77.408582</td>\n",
       "    </tr>\n",
       "    <tr>\n",
       "      <th>1</th>\n",
       "      <td>I think that I may caught a UFO on the NBC Nig...</td>\n",
       "      <td>Rocky Hill</td>\n",
       "      <td>CT</td>\n",
       "      <td>2019-03-22T18:30:00</td>\n",
       "      <td>circle</td>\n",
       "      <td>3-5 seconds</td>\n",
       "      <td>Occurred : 3/22/2019 18:30  (Entered as : 03/2...</td>\n",
       "      <td>http://www.nuforc.org/webreports/145/S145297.html</td>\n",
       "      <td>I think that I may caught a UFO on the NBC Nig...</td>\n",
       "      <td>2019-03-29T00:00:00</td>\n",
       "      <td>41.664800</td>\n",
       "      <td>-72.639300</td>\n",
       "    </tr>\n",
       "    <tr>\n",
       "      <th>2</th>\n",
       "      <td>I woke up late in the afternoon 3:30-4pm. I we...</td>\n",
       "      <td>NaN</td>\n",
       "      <td>NaN</td>\n",
       "      <td>NaN</td>\n",
       "      <td>NaN</td>\n",
       "      <td>NaN</td>\n",
       "      <td>Occurred : 4/1/2019 15:45  (Entered as : April...</td>\n",
       "      <td>http://www.nuforc.org/webreports/145/S145556.html</td>\n",
       "      <td>I woke up late in the afternoon 3:30-4pm.  I w...</td>\n",
       "      <td>NaN</td>\n",
       "      <td>NaN</td>\n",
       "      <td>NaN</td>\n",
       "    </tr>\n",
       "  </tbody>\n",
       "</table>\n",
       "</div>"
      ],
      "text/plain": [
       "                                             summary        city state  \\\n",
       "0  My wife was driving southeast on a fairly popu...     Chester    VA   \n",
       "1  I think that I may caught a UFO on the NBC Nig...  Rocky Hill    CT   \n",
       "2  I woke up late in the afternoon 3:30-4pm. I we...         NaN   NaN   \n",
       "\n",
       "             date_time   shape     duration  \\\n",
       "0  2019-12-12T18:43:00   light    5 seconds   \n",
       "1  2019-03-22T18:30:00  circle  3-5 seconds   \n",
       "2                  NaN     NaN          NaN   \n",
       "\n",
       "                                               stats  \\\n",
       "0  Occurred : 12/12/2019 18:43  (Entered as : 12/...   \n",
       "1  Occurred : 3/22/2019 18:30  (Entered as : 03/2...   \n",
       "2  Occurred : 4/1/2019 15:45  (Entered as : April...   \n",
       "\n",
       "                                         report_link  \\\n",
       "0  http://www.nuforc.org/webreports/151/S151739.html   \n",
       "1  http://www.nuforc.org/webreports/145/S145297.html   \n",
       "2  http://www.nuforc.org/webreports/145/S145556.html   \n",
       "\n",
       "                                                text               posted  \\\n",
       "0  My wife was driving southeast on a fairly popu...  2019-12-22T00:00:00   \n",
       "1  I think that I may caught a UFO on the NBC Nig...  2019-03-29T00:00:00   \n",
       "2  I woke up late in the afternoon 3:30-4pm.  I w...                  NaN   \n",
       "\n",
       "   city_latitude  city_longitude  \n",
       "0      37.343152      -77.408582  \n",
       "1      41.664800      -72.639300  \n",
       "2            NaN             NaN  "
      ]
     },
     "metadata": {},
     "output_type": "display_data"
    }
   ],
   "source": [
    "# Read in csv file containing raw data\n",
    "data = pd.read_csv(\"resources/nuforc_reports.csv\")\n",
    "display(data.head(3))"
   ]
  },
  {
   "cell_type": "code",
   "execution_count": 3,
   "id": "3d2c3000",
   "metadata": {},
   "outputs": [
    {
     "data": {
      "text/plain": [
       "summary              30\n",
       "city                234\n",
       "state              5235\n",
       "date_time          1187\n",
       "shape              2498\n",
       "duration           3171\n",
       "stats                37\n",
       "report_link           0\n",
       "text                 55\n",
       "posted             1187\n",
       "city_latitude     16112\n",
       "city_longitude    16112\n",
       "dtype: int64"
      ]
     },
     "metadata": {},
     "output_type": "display_data"
    }
   ],
   "source": [
    "# Check for null values\n",
    "display(data.isnull().sum())"
   ]
  },
  {
   "cell_type": "code",
   "execution_count": 4,
   "id": "c7f6e5ba",
   "metadata": {},
   "outputs": [
    {
     "name": "stdout",
     "output_type": "stream",
     "text": [
      "Total Number of States:\n",
      "65\n",
      "States Included in Data:\n",
      "['VA' 'CT' nan 'ON' 'NY' 'TX' 'AZ' 'IN' 'FL' 'NM' 'IA' 'SC' 'CA' 'CO' 'RI'\n",
      " 'TN' 'PA' 'NJ' 'WA' 'MI' 'MO' 'IL' 'OH' 'OR' 'MA' 'WY' 'KY' 'NC' 'AR'\n",
      " 'OK' 'QC' 'AB' 'AL' 'SD' 'MD' 'ME' 'GA' 'MN' 'NV' 'LA' 'WI' 'UT' 'MS'\n",
      " 'BC' 'MT' 'NH' 'ID' 'NB' 'WV' 'DC' 'NE' 'KS' 'MB' 'AK' 'NS' 'SK' 'NT'\n",
      " 'VT' 'ND' 'HI' 'DE' 'NL' 'PR' 'YT' 'PE' 'QB']\n"
     ]
    }
   ],
   "source": [
    "# Check number of states included and unique values in the state column\n",
    "print(\"Total Number of States:\")\n",
    "print(data[\"state\"].nunique())\n",
    "print(\"States Included in Data:\")\n",
    "print(data[\"state\"].unique())"
   ]
  },
  {
   "cell_type": "code",
   "execution_count": 5,
   "id": "0797916a",
   "metadata": {},
   "outputs": [],
   "source": [
    "# Extra states are all Canadian states, no typos\n",
    "# Drop extra states - since we're only looking at the USA\n",
    "data.drop(data[data[\"state\"] == \"ON\"].index, inplace=True)\n",
    "data.drop(data[data[\"state\"] == \"QC\"].index, inplace=True)\n",
    "data.drop(data[data[\"state\"] == \"AB\"].index, inplace=True)\n",
    "data.drop(data[data[\"state\"] == \"BC\"].index, inplace=True)\n",
    "data.drop(data[data[\"state\"] == \"NB\"].index, inplace=True)\n",
    "data.drop(data[data[\"state\"] == \"MB\"].index, inplace=True)\n",
    "data.drop(data[data[\"state\"] == \"NS\"].index, inplace=True)\n",
    "data.drop(data[data[\"state\"] == \"SK\"].index, inplace=True)\n",
    "data.drop(data[data[\"state\"] == \"NT\"].index, inplace=True)\n",
    "data.drop(data[data[\"state\"] == \"NL\"].index, inplace=True)\n",
    "data.drop(data[data[\"state\"] == \"PR\"].index, inplace=True)\n",
    "data.drop(data[data[\"state\"] == \"YT\"].index, inplace=True)\n",
    "data.drop(data[data[\"state\"] == \"PE\"].index, inplace=True)\n",
    "data.drop(data[data[\"state\"] == \"QB\"].index, inplace=True)\n",
    "\n",
    "# Change DC to MD to count it as part of Maryland\n",
    "data.loc[data[\"state\"] == \"DC\", \"state\"] = \"MD\""
   ]
  },
  {
   "cell_type": "code",
   "execution_count": 6,
   "id": "914c230f",
   "metadata": {},
   "outputs": [
    {
     "data": {
      "text/plain": [
       "array(['light', 'circle', nan, 'cigar', 'disk', 'unknown', 'oval',\n",
       "       'other', 'sphere', 'changing', 'formation', 'flash', 'chevron',\n",
       "       'triangle', 'cylinder', 'fireball', 'diamond', 'egg', 'teardrop',\n",
       "       'rectangle', 'cone', 'cross'], dtype=object)"
      ]
     },
     "metadata": {},
     "output_type": "display_data"
    }
   ],
   "source": [
    "# Check unique values in the \"shape\" column\n",
    "display(data[\"shape\"].unique())"
   ]
  },
  {
   "cell_type": "code",
   "execution_count": 7,
   "id": "acec7567",
   "metadata": {},
   "outputs": [],
   "source": [
    "# Remove all rows containing the \"unknown\" value in the shape column\n",
    "data.drop(data[data[\"shape\"] == \"unknown\"].index, inplace=True)"
   ]
  },
  {
   "cell_type": "code",
   "execution_count": 8,
   "id": "d713e5a8",
   "metadata": {},
   "outputs": [],
   "source": [
    "# Data = data.dropna(axis=0, subset=[\"state\"], inplace=True)\n",
    "data = data[data[\"state\"].notna()]"
   ]
  },
  {
   "cell_type": "code",
   "execution_count": 9,
   "id": "aacd208c",
   "metadata": {},
   "outputs": [
    {
     "data": {
      "text/html": [
       "<div>\n",
       "<style scoped>\n",
       "    .dataframe tbody tr th:only-of-type {\n",
       "        vertical-align: middle;\n",
       "    }\n",
       "\n",
       "    .dataframe tbody tr th {\n",
       "        vertical-align: top;\n",
       "    }\n",
       "\n",
       "    .dataframe thead th {\n",
       "        text-align: right;\n",
       "    }\n",
       "</style>\n",
       "<table border=\"1\" class=\"dataframe\">\n",
       "  <thead>\n",
       "    <tr style=\"text-align: right;\">\n",
       "      <th></th>\n",
       "      <th>city</th>\n",
       "      <th>state</th>\n",
       "      <th>date_time</th>\n",
       "      <th>shape</th>\n",
       "    </tr>\n",
       "  </thead>\n",
       "  <tbody>\n",
       "    <tr>\n",
       "      <th>0</th>\n",
       "      <td>Chester</td>\n",
       "      <td>VA</td>\n",
       "      <td>2019-12-12T18:43:00</td>\n",
       "      <td>light</td>\n",
       "    </tr>\n",
       "    <tr>\n",
       "      <th>1</th>\n",
       "      <td>Rocky Hill</td>\n",
       "      <td>CT</td>\n",
       "      <td>2019-03-22T18:30:00</td>\n",
       "      <td>circle</td>\n",
       "    </tr>\n",
       "    <tr>\n",
       "      <th>4</th>\n",
       "      <td>Peoria</td>\n",
       "      <td>NY</td>\n",
       "      <td>2009-03-15T18:00:00</td>\n",
       "      <td>cigar</td>\n",
       "    </tr>\n",
       "    <tr>\n",
       "      <th>5</th>\n",
       "      <td>Kirbyville</td>\n",
       "      <td>TX</td>\n",
       "      <td>2019-04-02T20:25:00</td>\n",
       "      <td>disk</td>\n",
       "    </tr>\n",
       "    <tr>\n",
       "      <th>7</th>\n",
       "      <td>Gold Canyon</td>\n",
       "      <td>AZ</td>\n",
       "      <td>2019-04-10T17:00:00</td>\n",
       "      <td>circle</td>\n",
       "    </tr>\n",
       "  </tbody>\n",
       "</table>\n",
       "</div>"
      ],
      "text/plain": [
       "          city state            date_time   shape\n",
       "0      Chester    VA  2019-12-12T18:43:00   light\n",
       "1   Rocky Hill    CT  2019-03-22T18:30:00  circle\n",
       "4       Peoria    NY  2009-03-15T18:00:00   cigar\n",
       "5   Kirbyville    TX  2019-04-02T20:25:00    disk\n",
       "7  Gold Canyon    AZ  2019-04-10T17:00:00  circle"
      ]
     },
     "metadata": {},
     "output_type": "display_data"
    }
   ],
   "source": [
    "# Drop all unneeded columns from our dataframe\n",
    "data = data.drop([\"summary\", \"duration\", \"stats\", \"report_link\", \"text\", \"posted\", \"city_latitude\", \"city_longitude\"], axis=1)\n",
    "display(data.head())"
   ]
  },
  {
   "cell_type": "code",
   "execution_count": 10,
   "id": "34e2156a",
   "metadata": {},
   "outputs": [
    {
     "data": {
      "text/plain": [
       "city          110\n",
       "state           0\n",
       "date_time     943\n",
       "shape        2130\n",
       "dtype: int64"
      ]
     },
     "metadata": {},
     "output_type": "display_data"
    }
   ],
   "source": [
    "# Check if any null values are left\n",
    "display(data.isnull().sum())"
   ]
  },
  {
   "cell_type": "code",
   "execution_count": 11,
   "id": "15cb19ac",
   "metadata": {},
   "outputs": [],
   "source": [
    "# Drop all remaining null values\n",
    "data = data.dropna()"
   ]
  },
  {
   "cell_type": "code",
   "execution_count": 12,
   "id": "239c9077",
   "metadata": {},
   "outputs": [],
   "source": [
    "# Convert original timestamp into usable timestamp\n",
    "date_format = \"%Y-%m-%dT%H:%M:%S\"\n",
    "date_time = []\n",
    "\n",
    "# Loop conversion through each row\n",
    "for x in range(len(data[\"date_time\"])):\n",
    "    ts = time.strptime(data.iloc[x,2], date_format)\n",
    "    dt = time.strftime(\"%Y-%m-%d %H:%M:%S\", ts)\n",
    "    date_time.append(dt)"
   ]
  },
  {
   "cell_type": "code",
   "execution_count": 13,
   "id": "bb889b87",
   "metadata": {},
   "outputs": [
    {
     "data": {
      "text/html": [
       "<div>\n",
       "<style scoped>\n",
       "    .dataframe tbody tr th:only-of-type {\n",
       "        vertical-align: middle;\n",
       "    }\n",
       "\n",
       "    .dataframe tbody tr th {\n",
       "        vertical-align: top;\n",
       "    }\n",
       "\n",
       "    .dataframe thead th {\n",
       "        text-align: right;\n",
       "    }\n",
       "</style>\n",
       "<table border=\"1\" class=\"dataframe\">\n",
       "  <thead>\n",
       "    <tr style=\"text-align: right;\">\n",
       "      <th></th>\n",
       "      <th>city</th>\n",
       "      <th>state</th>\n",
       "      <th>date_time</th>\n",
       "      <th>shape</th>\n",
       "      <th>timestamp</th>\n",
       "      <th>converted_timestamp</th>\n",
       "    </tr>\n",
       "  </thead>\n",
       "  <tbody>\n",
       "    <tr>\n",
       "      <th>0</th>\n",
       "      <td>Chester</td>\n",
       "      <td>VA</td>\n",
       "      <td>2019-12-12T18:43:00</td>\n",
       "      <td>light</td>\n",
       "      <td>2019-12-12 18:43:00</td>\n",
       "      <td>2019-12-12 18:43:00</td>\n",
       "    </tr>\n",
       "    <tr>\n",
       "      <th>1</th>\n",
       "      <td>Rocky Hill</td>\n",
       "      <td>CT</td>\n",
       "      <td>2019-03-22T18:30:00</td>\n",
       "      <td>circle</td>\n",
       "      <td>2019-03-22 18:30:00</td>\n",
       "      <td>2019-03-22 18:30:00</td>\n",
       "    </tr>\n",
       "    <tr>\n",
       "      <th>4</th>\n",
       "      <td>Peoria</td>\n",
       "      <td>NY</td>\n",
       "      <td>2009-03-15T18:00:00</td>\n",
       "      <td>cigar</td>\n",
       "      <td>2009-03-15 18:00:00</td>\n",
       "      <td>2009-03-15 18:00:00</td>\n",
       "    </tr>\n",
       "    <tr>\n",
       "      <th>5</th>\n",
       "      <td>Kirbyville</td>\n",
       "      <td>TX</td>\n",
       "      <td>2019-04-02T20:25:00</td>\n",
       "      <td>disk</td>\n",
       "      <td>2019-04-02 20:25:00</td>\n",
       "      <td>2019-04-02 20:25:00</td>\n",
       "    </tr>\n",
       "    <tr>\n",
       "      <th>7</th>\n",
       "      <td>Gold Canyon</td>\n",
       "      <td>AZ</td>\n",
       "      <td>2019-04-10T17:00:00</td>\n",
       "      <td>circle</td>\n",
       "      <td>2019-04-10 17:00:00</td>\n",
       "      <td>2019-04-10 17:00:00</td>\n",
       "    </tr>\n",
       "  </tbody>\n",
       "</table>\n",
       "</div>"
      ],
      "text/plain": [
       "          city state            date_time   shape            timestamp  \\\n",
       "0      Chester    VA  2019-12-12T18:43:00   light  2019-12-12 18:43:00   \n",
       "1   Rocky Hill    CT  2019-03-22T18:30:00  circle  2019-03-22 18:30:00   \n",
       "4       Peoria    NY  2009-03-15T18:00:00   cigar  2009-03-15 18:00:00   \n",
       "5   Kirbyville    TX  2019-04-02T20:25:00    disk  2019-04-02 20:25:00   \n",
       "7  Gold Canyon    AZ  2019-04-10T17:00:00  circle  2019-04-10 17:00:00   \n",
       "\n",
       "  converted_timestamp  \n",
       "0 2019-12-12 18:43:00  \n",
       "1 2019-03-22 18:30:00  \n",
       "4 2009-03-15 18:00:00  \n",
       "5 2019-04-02 20:25:00  \n",
       "7 2019-04-10 17:00:00  "
      ]
     },
     "execution_count": 13,
     "metadata": {},
     "output_type": "execute_result"
    }
   ],
   "source": [
    "# Change new timestamp to correct datetime object type\n",
    "data[\"timestamp\"] = date_time\n",
    "data[\"converted_timestamp\"] = pd.to_datetime(data[\"timestamp\"], format=\"%Y-%m-%d %H:%M:%S\")\n",
    "data.head()"
   ]
  },
  {
   "cell_type": "code",
   "execution_count": 14,
   "id": "897822ac",
   "metadata": {},
   "outputs": [
    {
     "data": {
      "text/html": [
       "<div>\n",
       "<style scoped>\n",
       "    .dataframe tbody tr th:only-of-type {\n",
       "        vertical-align: middle;\n",
       "    }\n",
       "\n",
       "    .dataframe tbody tr th {\n",
       "        vertical-align: top;\n",
       "    }\n",
       "\n",
       "    .dataframe thead th {\n",
       "        text-align: right;\n",
       "    }\n",
       "</style>\n",
       "<table border=\"1\" class=\"dataframe\">\n",
       "  <thead>\n",
       "    <tr style=\"text-align: right;\">\n",
       "      <th></th>\n",
       "      <th>city</th>\n",
       "      <th>state</th>\n",
       "      <th>year</th>\n",
       "      <th>month</th>\n",
       "      <th>day</th>\n",
       "      <th>hour</th>\n",
       "      <th>minute</th>\n",
       "      <th>converted_timestamp</th>\n",
       "      <th>shape</th>\n",
       "    </tr>\n",
       "  </thead>\n",
       "  <tbody>\n",
       "    <tr>\n",
       "      <th>0</th>\n",
       "      <td>Chester</td>\n",
       "      <td>VA</td>\n",
       "      <td>2019</td>\n",
       "      <td>12</td>\n",
       "      <td>12</td>\n",
       "      <td>18</td>\n",
       "      <td>43</td>\n",
       "      <td>2019-12-12 18:43:00</td>\n",
       "      <td>light</td>\n",
       "    </tr>\n",
       "    <tr>\n",
       "      <th>1</th>\n",
       "      <td>Rocky Hill</td>\n",
       "      <td>CT</td>\n",
       "      <td>2019</td>\n",
       "      <td>3</td>\n",
       "      <td>22</td>\n",
       "      <td>18</td>\n",
       "      <td>30</td>\n",
       "      <td>2019-03-22 18:30:00</td>\n",
       "      <td>circle</td>\n",
       "    </tr>\n",
       "    <tr>\n",
       "      <th>4</th>\n",
       "      <td>Peoria</td>\n",
       "      <td>NY</td>\n",
       "      <td>2009</td>\n",
       "      <td>3</td>\n",
       "      <td>15</td>\n",
       "      <td>18</td>\n",
       "      <td>0</td>\n",
       "      <td>2009-03-15 18:00:00</td>\n",
       "      <td>cigar</td>\n",
       "    </tr>\n",
       "    <tr>\n",
       "      <th>5</th>\n",
       "      <td>Kirbyville</td>\n",
       "      <td>TX</td>\n",
       "      <td>2019</td>\n",
       "      <td>4</td>\n",
       "      <td>2</td>\n",
       "      <td>20</td>\n",
       "      <td>25</td>\n",
       "      <td>2019-04-02 20:25:00</td>\n",
       "      <td>disk</td>\n",
       "    </tr>\n",
       "    <tr>\n",
       "      <th>7</th>\n",
       "      <td>Gold Canyon</td>\n",
       "      <td>AZ</td>\n",
       "      <td>2019</td>\n",
       "      <td>4</td>\n",
       "      <td>10</td>\n",
       "      <td>17</td>\n",
       "      <td>0</td>\n",
       "      <td>2019-04-10 17:00:00</td>\n",
       "      <td>circle</td>\n",
       "    </tr>\n",
       "  </tbody>\n",
       "</table>\n",
       "</div>"
      ],
      "text/plain": [
       "          city state  year  month  day  hour  minute converted_timestamp  \\\n",
       "0      Chester    VA  2019     12   12    18      43 2019-12-12 18:43:00   \n",
       "1   Rocky Hill    CT  2019      3   22    18      30 2019-03-22 18:30:00   \n",
       "4       Peoria    NY  2009      3   15    18       0 2009-03-15 18:00:00   \n",
       "5   Kirbyville    TX  2019      4    2    20      25 2019-04-02 20:25:00   \n",
       "7  Gold Canyon    AZ  2019      4   10    17       0 2019-04-10 17:00:00   \n",
       "\n",
       "    shape  \n",
       "0   light  \n",
       "1  circle  \n",
       "4   cigar  \n",
       "5    disk  \n",
       "7  circle  "
      ]
     },
     "execution_count": 14,
     "metadata": {},
     "output_type": "execute_result"
    }
   ],
   "source": [
    "# Create columns for each individual piece of the timestamp\n",
    "data[\"year\"] = data[\"converted_timestamp\"].dt.year\n",
    "data[\"month\"] = data[\"converted_timestamp\"].dt.month\n",
    "data[\"day\"] = data[\"converted_timestamp\"].dt.day\n",
    "data[\"hour\"] = data[\"converted_timestamp\"].dt.hour\n",
    "data[\"minute\"] = data[\"converted_timestamp\"].dt.minute\n",
    "data = data[[\"city\", \"state\", \"year\", \"month\", \"day\", \"hour\", \"minute\", \"converted_timestamp\", \"shape\"]]\n",
    "data.head()"
   ]
  },
  {
   "cell_type": "code",
   "execution_count": 15,
   "id": "93e26036",
   "metadata": {},
   "outputs": [],
   "source": [
    "# Save the clean dataframe to a new csv\n",
    "data.to_csv(\"output/clean_data.csv\", index=False)"
   ]
  }
 ],
 "metadata": {
  "kernelspec": {
   "display_name": "Python 3 (ipykernel)",
   "language": "python",
   "name": "python3"
  },
  "language_info": {
   "codemirror_mode": {
    "name": "ipython",
    "version": 3
   },
   "file_extension": ".py",
   "mimetype": "text/x-python",
   "name": "python",
   "nbconvert_exporter": "python",
   "pygments_lexer": "ipython3",
   "version": "3.9.18"
  }
 },
 "nbformat": 4,
 "nbformat_minor": 5
}
